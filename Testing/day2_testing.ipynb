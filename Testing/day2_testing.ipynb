{
 "cells": [
  {
   "cell_type": "code",
   "execution_count": 43,
   "id": "c874612e-8444-4ba3-a5fe-c92fa444ab02",
   "metadata": {},
   "outputs": [],
   "source": [
    "import pandas as pd\n",
    "import yfinance as yf\n",
    "import numpy as np"
   ]
  },
  {
   "cell_type": "code",
   "execution_count": 25,
   "id": "070a69e1-ebe5-4689-a737-4ac2bbc71296",
   "metadata": {},
   "outputs": [],
   "source": [
    "tickers = ['DIA','MMM', 'AXP', 'AAPL', 'BA', 'CAT', 'CVX', 'CSCO', 'KO', 'DIS', 'XOM', 'GS', 'HD', 'IBM', 'INTC', 'JNJ', 'JPM', 'MCD', 'MRK', 'MSFT', 'NKE', 'PFE', 'PG', 'TRV', 'UNH', 'VZ', 'V', 'WMT', 'WBA']"
   ]
  },
  {
   "cell_type": "markdown",
   "id": "774d7add-fc07-4d48-8f47-59d8d0ad4ead",
   "metadata": {},
   "source": [
    "## What type of day"
   ]
  },
  {
   "cell_type": "code",
   "execution_count": 54,
   "id": "e881b08b-d411-414a-8bbf-c3a7c0a5db80",
   "metadata": {},
   "outputs": [],
   "source": [
    "start_date = '2019-05-07'\n",
    "end_date = '2019-05-08'"
   ]
  },
  {
   "cell_type": "code",
   "execution_count": 33,
   "id": "8aebb124-3d8b-4e62-9c56-8083e72bb53c",
   "metadata": {},
   "outputs": [
    {
     "data": {
      "text/html": [
       "<div>\n",
       "<style scoped>\n",
       "    .dataframe tbody tr th:only-of-type {\n",
       "        vertical-align: middle;\n",
       "    }\n",
       "\n",
       "    .dataframe tbody tr th {\n",
       "        vertical-align: top;\n",
       "    }\n",
       "\n",
       "    .dataframe thead th {\n",
       "        text-align: right;\n",
       "    }\n",
       "</style>\n",
       "<table border=\"1\" class=\"dataframe\">\n",
       "  <thead>\n",
       "    <tr style=\"text-align: right;\">\n",
       "      <th>Ticker</th>\n",
       "      <th>AAPL</th>\n",
       "      <th>AXP</th>\n",
       "      <th>BA</th>\n",
       "      <th>CAT</th>\n",
       "      <th>CSCO</th>\n",
       "      <th>CVX</th>\n",
       "      <th>DIA</th>\n",
       "      <th>DIS</th>\n",
       "      <th>GS</th>\n",
       "      <th>HD</th>\n",
       "      <th>...</th>\n",
       "      <th>NKE</th>\n",
       "      <th>PFE</th>\n",
       "      <th>PG</th>\n",
       "      <th>TRV</th>\n",
       "      <th>UNH</th>\n",
       "      <th>V</th>\n",
       "      <th>VZ</th>\n",
       "      <th>WBA</th>\n",
       "      <th>WMT</th>\n",
       "      <th>XOM</th>\n",
       "    </tr>\n",
       "    <tr>\n",
       "      <th>Date</th>\n",
       "      <th></th>\n",
       "      <th></th>\n",
       "      <th></th>\n",
       "      <th></th>\n",
       "      <th></th>\n",
       "      <th></th>\n",
       "      <th></th>\n",
       "      <th></th>\n",
       "      <th></th>\n",
       "      <th></th>\n",
       "      <th></th>\n",
       "      <th></th>\n",
       "      <th></th>\n",
       "      <th></th>\n",
       "      <th></th>\n",
       "      <th></th>\n",
       "      <th></th>\n",
       "      <th></th>\n",
       "      <th></th>\n",
       "      <th></th>\n",
       "      <th></th>\n",
       "    </tr>\n",
       "  </thead>\n",
       "  <tbody>\n",
       "    <tr>\n",
       "      <th>2019-05-07</th>\n",
       "      <td>-0.051423</td>\n",
       "      <td>-0.066007</td>\n",
       "      <td>-0.047681</td>\n",
       "      <td>-0.117814</td>\n",
       "      <td>-0.141886</td>\n",
       "      <td>-0.191496</td>\n",
       "      <td>-0.102162</td>\n",
       "      <td>-0.029179</td>\n",
       "      <td>-0.117838</td>\n",
       "      <td>-0.123501</td>\n",
       "      <td>...</td>\n",
       "      <td>-0.056196</td>\n",
       "      <td>-0.190283</td>\n",
       "      <td>-0.114051</td>\n",
       "      <td>-0.115435</td>\n",
       "      <td>-0.076539</td>\n",
       "      <td>-0.038085</td>\n",
       "      <td>-0.221129</td>\n",
       "      <td>-0.215059</td>\n",
       "      <td>-0.082475</td>\n",
       "      <td>-0.22206</td>\n",
       "    </tr>\n",
       "  </tbody>\n",
       "</table>\n",
       "<p>1 rows × 29 columns</p>\n",
       "</div>"
      ],
      "text/plain": [
       "Ticker          AAPL       AXP        BA       CAT      CSCO       CVX  \\\n",
       "Date                                                                     \n",
       "2019-05-07 -0.051423 -0.066007 -0.047681 -0.117814 -0.141886 -0.191496   \n",
       "\n",
       "Ticker           DIA       DIS        GS        HD  ...       NKE       PFE  \\\n",
       "Date                                                ...                       \n",
       "2019-05-07 -0.102162 -0.029179 -0.117838 -0.123501  ... -0.056196 -0.190283   \n",
       "\n",
       "Ticker            PG       TRV       UNH         V        VZ       WBA  \\\n",
       "Date                                                                     \n",
       "2019-05-07 -0.114051 -0.115435 -0.076539 -0.038085 -0.221129 -0.215059   \n",
       "\n",
       "Ticker           WMT      XOM  \n",
       "Date                           \n",
       "2019-05-07 -0.082475 -0.22206  \n",
       "\n",
       "[1 rows x 29 columns]"
      ]
     },
     "execution_count": 33,
     "metadata": {},
     "output_type": "execute_result"
    }
   ],
   "source": [
    "data_open = yf.download(tickers, start_date, end_date, progress=False)['Open']\n",
    "data_close = yf.download(tickers, start_date, end_date, progress=False)['Adj Close']\n",
    "data_final = (data_close - data_open)/data_open\n",
    "data_final"
   ]
  },
  {
   "cell_type": "markdown",
   "id": "2873ea0f-6cd7-4639-9aa0-804c908a52be",
   "metadata": {},
   "source": [
    "### Must be a down day as every stock in the index returned negative on all 4 testing dates."
   ]
  },
  {
   "cell_type": "markdown",
   "id": "eead6e2e-ff91-46c2-86a5-bf978670aa46",
   "metadata": {},
   "source": [
    "# Strategy: receive betas of all stocks and short them at the beginning of the day."
   ]
  },
  {
   "cell_type": "code",
   "execution_count": 40,
   "id": "5a6ab175-0246-4d0c-8af6-00ca79f191e3",
   "metadata": {},
   "outputs": [],
   "source": [
    "start_history = '2010-01-01'\n",
    "end_history = '2020-01-01'\n",
    "data = yf.download(tickers, start_history, end_history, progress=False)['Adj Close'].pct_change().dropna()\n",
    "betas = {}"
   ]
  },
  {
   "cell_type": "code",
   "execution_count": 48,
   "id": "1da60fda-71e3-4d08-96ab-df5aa3bacdab",
   "metadata": {},
   "outputs": [
    {
     "data": {
      "text/plain": [
       "0.3019532945095695"
      ]
     },
     "execution_count": 48,
     "metadata": {},
     "output_type": "execute_result"
    }
   ],
   "source": [
    "djia_returns.cov(data['AAPL'])/data['AAPL'].var()"
   ]
  },
  {
   "cell_type": "code",
   "execution_count": 50,
   "id": "d83259cb-8d0a-4f84-9088-72da1ae752ee",
   "metadata": {},
   "outputs": [
    {
     "data": {
      "text/plain": [
       "array([0.30195329])"
      ]
     },
     "execution_count": 50,
     "metadata": {},
     "output_type": "execute_result"
    }
   ],
   "source": [
    "from sklearn.linear_model import LinearRegression\n",
    "\n",
    "model = LinearRegression()\n",
    "x = np.array(data['AAPL']).reshape(-1, 1)\n",
    "y = np.array(djia_returns).reshape(-1, 1)\n",
    "model.fit(x, y)\n",
    "model.coef_[0]"
   ]
  },
  {
   "cell_type": "code",
   "execution_count": 53,
   "id": "e303be8c-6f62-4fe5-83d5-46c5a7c25961",
   "metadata": {},
   "outputs": [
    {
     "data": {
      "text/plain": [
       "{'WBA': 0.2699295909508379,\n",
       " 'AAPL': 0.3019532945095695,\n",
       " 'NKE': 0.343218222155046,\n",
       " 'CSCO': 0.3525059017893206,\n",
       " 'UNH': 0.3571333991880971,\n",
       " 'INTC': 0.36298519445407285,\n",
       " 'GS': 0.38102381209248687,\n",
       " 'V': 0.3833658344938661,\n",
       " 'CAT': 0.38549928275935513,\n",
       " 'WMT': 0.38889799884801296,\n",
       " 'BA': 0.4067790134873251,\n",
       " 'MSFT': 0.415209295624494,\n",
       " 'JPM': 0.42100857955390897,\n",
       " 'MRK': 0.42248911773272513,\n",
       " 'VZ': 0.43030508559546776,\n",
       " 'AXP': 0.44400531593794296,\n",
       " 'DIS': 0.4588362420926675,\n",
       " 'CVX': 0.47163190733871113,\n",
       " 'PFE': 0.47634117342870963,\n",
       " 'HD': 0.4785198757885383,\n",
       " 'IBM': 0.48947251560807914,\n",
       " 'MCD': 0.49655012736578014,\n",
       " 'PG': 0.5147546292296002,\n",
       " 'KO': 0.5435577669819728,\n",
       " 'TRV': 0.5453673191817942,\n",
       " 'XOM': 0.5508386063525039,\n",
       " 'MMM': 0.5666427452681849,\n",
       " 'JNJ': 0.6009728282072597,\n",
       " 'DIA': 1.0000000000000004}"
      ]
     },
     "execution_count": 53,
     "metadata": {},
     "output_type": "execute_result"
    }
   ],
   "source": [
    "djia_returns = data['DIA']\n",
    "\n",
    "for stock in data:\n",
    "    beta = djia_returns.cov(data[stock])/data[stock].var()\n",
    "    betas[stock] = beta\n",
    "    \n",
    "dict(sorted(betas.items(), key=lambda item: item[1]))"
   ]
  },
  {
   "cell_type": "markdown",
   "id": "94541d99-546c-4575-823d-531700a3ebbb",
   "metadata": {},
   "source": [
    "## Finding how severe the down moves were in each stock / if there's an explainable trend"
   ]
  },
  {
   "cell_type": "code",
   "execution_count": 65,
   "id": "ef967e6a-cf21-4d16-a704-45876ca98b52",
   "metadata": {},
   "outputs": [],
   "source": [
    "start_dates = ['2019-01-03', '2019-01-04', '2019-01-18', '2019-05-07']\n",
    "end_dates = ['2019-01-04', '2019-01-05', '2019-01-19', '2019-05-08']\n",
    "\n",
    "pct_changes = {}\n",
    "\n",
    "for stock in tickers:\n",
    "    returns = []\n",
    "    for i in range(4):\n",
    "        open_price = yf.download(stock, start_dates[i], end_dates[i], progress=False)['Open']\n",
    "        close_price = yf.download(stock, start_dates[i], end_dates[i], progress=False)['Adj Close']\n",
    "        pct_change = ((close_price - open_price)/open_price).iloc[0]\n",
    "        returns.append(pct_change)\n",
    "    pct_changes[stock] = returns"
   ]
  },
  {
   "cell_type": "code",
   "execution_count": 67,
   "id": "b79932ca-9858-47f0-8c0b-92f39ca2e9d9",
   "metadata": {},
   "outputs": [
    {
     "data": {
      "text/plain": [
       "{'VZ': -0.922376100380321,\n",
       " 'XOM': -0.9219047447037517,\n",
       " 'MMM': -0.9163372237113012,\n",
       " 'IBM': -0.8848468186573261,\n",
       " 'WBA': -0.842004818626519,\n",
       " 'CVX': -0.8210818125286335,\n",
       " 'PFE': -0.767246641149304,\n",
       " 'MRK': -0.5969661904301884,\n",
       " 'KO': -0.5838440476014434,\n",
       " 'CSCO': -0.5565092225644671,\n",
       " 'JPM': -0.5486966573691345,\n",
       " 'JNJ': -0.5384252484186282,\n",
       " 'INTC': -0.5165067429011051,\n",
       " 'HD': -0.4727481329047105,\n",
       " 'PG': -0.4668699958341974,\n",
       " 'GS': -0.45869925582892995,\n",
       " 'CAT': -0.45705930027206787,\n",
       " 'TRV': -0.4525610372793441,\n",
       " 'MCD': -0.44479266741694357,\n",
       " 'DIA': -0.3949428153850907,\n",
       " 'WMT': -0.32491988526959437,\n",
       " 'UNH': -0.3191290014192406,\n",
       " 'AXP': -0.23982576307415743,\n",
       " 'MSFT': -0.21400501789488244,\n",
       " 'NKE': -0.20069710811728045,\n",
       " 'AAPL': -0.1669767913725706,\n",
       " 'V': -0.14164343150754893,\n",
       " 'BA': -0.12456649866491527,\n",
       " 'DIS': -0.08652751427388293}"
      ]
     },
     "execution_count": 67,
     "metadata": {},
     "output_type": "execute_result"
    }
   ],
   "source": [
    "total_returns = {key: sum(values) for key, values in pct_changes.items()}\n",
    "\n",
    "{k: v for k, v in sorted(total_returns.items(), key=lambda item: item[1])}"
   ]
  },
  {
   "cell_type": "code",
   "execution_count": null,
   "id": "9f096d5d-6297-468e-934a-e7d31ebb2dbf",
   "metadata": {},
   "outputs": [],
   "source": []
  }
 ],
 "metadata": {
  "kernelspec": {
   "display_name": "Python 3 (ipykernel)",
   "language": "python",
   "name": "python3"
  },
  "language_info": {
   "codemirror_mode": {
    "name": "ipython",
    "version": 3
   },
   "file_extension": ".py",
   "mimetype": "text/x-python",
   "name": "python",
   "nbconvert_exporter": "python",
   "pygments_lexer": "ipython3",
   "version": "3.12.1"
  }
 },
 "nbformat": 4,
 "nbformat_minor": 5
}
